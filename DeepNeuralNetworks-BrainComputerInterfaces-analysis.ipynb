{
 "cells": [
  {
   "cell_type": "markdown",
   "metadata": {},
   "source": [
    "# Deep neural networks for analyzing recordings of Brain Computer Interfaces\n",
    "\n",
    "\n",
    "\n",
    "### Author:  Elsa Scola Martín and Enya Goñi Maganto\n",
    "\n",
    "### Objectives:\n",
    "\n",
    "- Apply deep neural networks for classifying BCI data.\n",
    "\n",
    "### What is done in the Notebook: \n",
    "\n",
    "- Load and preprocess the data\n",
    "    - Window method\n",
    "    - Adapt the label values\n",
    "    - Split the data\n",
    "- Classification with RNN - Tensorflow\n",
    "    - LSTM\n",
    "    - GRU\n",
    "- Classification with CNN - Keras\n",
    "- Analize and contrast the results"
   ]
  },
  {
   "cell_type": "markdown",
   "metadata": {},
   "source": [
    "# Importing the libraries"
   ]
  },
  {
   "cell_type": "markdown",
   "metadata": {},
   "source": [
    "First of all, we import all relevant libraries to be used in the notebook. "
   ]
  },
  {
   "cell_type": "code",
   "execution_count": 1,
   "metadata": {},
   "outputs": [
    {
     "name": "stderr",
     "output_type": "stream",
     "text": [
      "Using TensorFlow backend.\n"
     ]
    }
   ],
   "source": [
    "# General Imports\n",
    "import pandas as pd\n",
    "from pandas import DataFrame\n",
    "import numpy as np\n",
    "\n",
    "# RNN \n",
    "import tensorflow as tf\n",
    "from tensorflow.python.ops import rnn, rnn_cell\n",
    "import matplotlib.pyplot as plt\n",
    "from sklearn import metrics\n",
    "from sklearn.metrics import roc_auc_score\n",
    "from statistics import mean\n",
    "\n",
    "# CNN \n",
    "from numpy import mean\n",
    "from numpy import std\n",
    "from numpy import dstack\n",
    "from pandas import read_csv\n",
    "from matplotlib import pyplot\n",
    "from keras.models import Sequential\n",
    "from keras.layers import Dense\n",
    "from keras.layers import Flatten\n",
    "from keras.layers import Dropout\n",
    "from keras.layers.convolutional import Conv1D\n",
    "from keras.layers.convolutional import MaxPooling1D\n",
    "from keras.utils import to_categorical\n",
    "\n",
    "# To load the data\n",
    "import scipy.io as sio\n",
    "from scipy import stats\n",
    "\n"
   ]
  },
  {
   "cell_type": "markdown",
   "metadata": {},
   "source": [
    "# Loading the data"
   ]
  },
  {
   "cell_type": "markdown",
   "metadata": {},
   "source": [
    "The dataset, named \"Data set I: ‹motor imagery in ECoG recordings, session-to-session transfer›\" can be requested from http://www.bbci.de/competition/iii/#datasets. \n",
    "Introduce here http://www.bbci.de/competition/iii/#download a name and email and the credentials needed to download the dataset are sent to the email. Then, just download the Matlab file that corresponds to the dataset mentioned."
   ]
  },
  {
   "cell_type": "code",
   "execution_count": 2,
   "metadata": {},
   "outputs": [],
   "source": [
    "# We load the data which is in matlab format, it takes less than a minute to load the data\n",
    "mat_contentsTest = sio.loadmat('Competition_test.mat')\n",
    "mat_contentsTrain = sio.loadmat('Competition_train.mat')"
   ]
  },
  {
   "cell_type": "code",
   "execution_count": 3,
   "metadata": {},
   "outputs": [
    {
     "data": {
      "text/plain": [
       "dict_keys(['__header__', '__version__', '__globals__', 'X'])"
      ]
     },
     "execution_count": 3,
     "metadata": {},
     "output_type": "execute_result"
    }
   ],
   "source": [
    "# We print the keys of the test dataset so we can see how is divided\n",
    "mat_contentsTest.keys()"
   ]
  },
  {
   "cell_type": "code",
   "execution_count": 4,
   "metadata": {},
   "outputs": [
    {
     "data": {
      "text/plain": [
       "dict_keys(['__header__', '__version__', '__globals__', 'X', 'Y'])"
      ]
     },
     "execution_count": 4,
     "metadata": {},
     "output_type": "execute_result"
    }
   ],
   "source": [
    "# We print the keys of the train dataset so we can see how is divided\n",
    "mat_contentsTrain.keys()"
   ]
  },
  {
   "cell_type": "markdown",
   "metadata": {},
   "source": [
    "The downloaded dataset consists of two parts, test data, which contains only the data with no labels so each team can submit their results, and train data with labels to train the model."
   ]
  },
  {
   "cell_type": "code",
   "execution_count": 5,
   "metadata": {},
   "outputs": [
    {
     "name": "stdout",
     "output_type": "stream",
     "text": [
      "Shape of train data X: (278, 64, 3000)\n",
      "Shape of train data Y: (278, 1)\n",
      "Shape of test data X: (100, 64, 3000)\n"
     ]
    }
   ],
   "source": [
    "print(\"Shape of train data X: \"+ str(mat_contentsTrain['X'].shape))\n",
    "print(\"Shape of train data Y: \"+ str(mat_contentsTrain['Y'].shape))\n",
    "print(\"Shape of test data X: \"+ str(mat_contentsTest['X'].shape))"
   ]
  },
  {
   "cell_type": "markdown",
   "metadata": {},
   "source": [
    "As we can see, the train dataset had 2 parts:\n",
    "- Part 1: A 3D matrix containing the following information: 278 trials, where each one had the information that 64 electrode channels had gathered in parallel for 3 seconds, and 3000 samples of time series contained in each one of the 64 electrode channels.\n",
    "- Part 2: A vector of -1/1 values, that corresponded to the labels, one for each trial.\n",
    "\n",
    "The test dataset, on the other hand, had no labels."
   ]
  },
  {
   "cell_type": "markdown",
   "metadata": {},
   "source": [
    "We can observe that for each of the electrode channels there are 3000 samples, having a great size of samples can make it less manageable for the neural network to compute, is therefore recommended to reduce this size."
   ]
  },
  {
   "cell_type": "markdown",
   "metadata": {},
   "source": [
    "\n",
    "# Preprocessing the dataset"
   ]
  },
  {
   "cell_type": "markdown",
   "metadata": {},
   "source": [
    "## Window method"
   ]
  },
  {
   "cell_type": "markdown",
   "metadata": {},
   "source": [
    "In the context of ECoG recordings (similarly for EEG recordings), we have to take into consideration that the signal is highly influenced not only by external sources of noise but also by the spatial characteristics of the data recording process. The electrodes positioned according to a standard 10-10 or 10-20 electrode placement system collect data which may be heavily distorted by the activity of the adjacent cortex areas—potentially irrelevant to the state of the user’s brain activity we want to classify.\n",
    "\n",
    "\n",
    "Thus, for ECoG and EEG data, our assumption is that reducing the number of samples produced by a single channel within a given time window can produce information that is more valuable and free of noise than if the signal is treated as a whole. \n",
    "To reduce the number of samples we compute the mean for each 100 samples, therefore the window size is 100, with an overlap of 50 samples, which means that for each 100 samples we take 50 from the previous set of 100 samples; we do this to convert time values into cross sectional attributes. Sliding time window methods are very useful in terms of fetching important patterns in the dataset that are highly dependent on the past bulk of observations.\n",
    "\n",
    "Moreover, using this technique we will obtain a reduced size of observations, this is specially convinient for us as Backpropagation Through Time can be computationally expensive when there is a high number of timesteps."
   ]
  },
  {
   "cell_type": "code",
   "execution_count": 6,
   "metadata": {},
   "outputs": [],
   "source": [
    "def windowing(sample):\n",
    "    # The first window ranges from 0 to 99, this values are going to be updated\n",
    "    i,j = 0,99\n",
    "    # In the \"sum\" variable we store the sum of the elements of each window\n",
    "    sum = 0\n",
    "    # In the \"means\" array we store the results of the mean of each window\n",
    "    means = []\n",
    "    l = 0\n",
    "    # In our case we have to compute 59 iterations as we have 3000 elements\n",
    "    for l in range(59):\n",
    "        for k in range(i,j):\n",
    "            sum += sample[k]\n",
    "        means.append(sum/100)\n",
    "        i += 50\n",
    "        j += 50\n",
    "        sum = 0\n",
    "    # This function returns a reduced number of samples for an electrode channel,\n",
    "    # we will compute this for each of the electrode channels\n",
    "    return means\n",
    "        "
   ]
  },
  {
   "cell_type": "markdown",
   "metadata": {},
   "source": [
    "We now reduce the number of samples for each of the electrode channels and create the matrices that represent our train dataset."
   ]
  },
  {
   "cell_type": "code",
   "execution_count": 7,
   "metadata": {},
   "outputs": [],
   "source": [
    "# We initialize the matrix where the train data X will be stored\n",
    "trainData_X = np.zeros((278,64,59))\n",
    "\n",
    "# We loop for each sample of each electrode channel and insert the new reduced data on the tridimensional matrix \n",
    "for i in range (len(mat_contentsTrain['X'])):\n",
    "    for j in range (len(mat_contentsTrain['X'][i])):\n",
    "        trainData_X[i][j] = windowing(mat_contentsTrain['X'][i][j])\n",
    "\n",
    "# The labels of the training data stay the same\n",
    "trainData_Y = mat_contentsTrain['Y']\n"
   ]
  },
  {
   "cell_type": "markdown",
   "metadata": {},
   "source": [
    "We now have a reduced dataset of 278 x 64 x 59 instead of 278 x 64 x 3000."
   ]
  },
  {
   "cell_type": "code",
   "execution_count": 8,
   "metadata": {},
   "outputs": [
    {
     "name": "stdout",
     "output_type": "stream",
     "text": [
      "(278, 64, 59)\n",
      "(278, 1)\n"
     ]
    }
   ],
   "source": [
    "print(trainData_X.shape)\n",
    "print(trainData_Y.shape)"
   ]
  },
  {
   "cell_type": "markdown",
   "metadata": {},
   "source": [
    "We do the same for our test dataset:"
   ]
  },
  {
   "cell_type": "code",
   "execution_count": 9,
   "metadata": {},
   "outputs": [],
   "source": [
    "# We initialize the matrix where the test data X will be stored\n",
    "testData_X = np.zeros((100,64,59))\n",
    "\n",
    "# We loop for each sample of each electrode channel and insert the new reduced data on the tridimensional matrix \n",
    "for i in range (len(mat_contentsTest['X'])):\n",
    "    for j in range (len(mat_contentsTest['X'][i])):\n",
    "        testData_X[i][j] = windowing(mat_contentsTest['X'][i][j])\n",
    "\n"
   ]
  },
  {
   "cell_type": "code",
   "execution_count": 10,
   "metadata": {},
   "outputs": [
    {
     "name": "stdout",
     "output_type": "stream",
     "text": [
      "(100, 64, 59)\n"
     ]
    }
   ],
   "source": [
    "print(testData_X.shape)"
   ]
  },
  {
   "cell_type": "markdown",
   "metadata": {},
   "source": [
    "## Adapt the label values"
   ]
  },
  {
   "cell_type": "markdown",
   "metadata": {},
   "source": [
    "As the sigmoid function (that we will be using later) returns a value between 0 and 1, we need to change the -1 labels to 0. In this way, we can consider that the values above or equal to the threshold 0.5 classify as 1, whereas the ones below that value are classified as 0."
   ]
  },
  {
   "cell_type": "code",
   "execution_count": 11,
   "metadata": {},
   "outputs": [],
   "source": [
    "trainData_X[0]\n",
    "trainData_Y[trainData_Y==-1] = 0  # Change -1s to 0s"
   ]
  },
  {
   "cell_type": "markdown",
   "metadata": {},
   "source": [
    "## Split the data"
   ]
  },
  {
   "cell_type": "markdown",
   "metadata": {},
   "source": [
    "As our test data has no labels, we can't check the accuracy of our network once it is trained. Thus, we divide our training dataset into 2 parts: train and validation. We decided that around 25% of the training data (70 cases) will be used for validation, and 75% for training (208 cases).\n",
    "\n",
    "The real test dataset will only be used to make predictions and send our results to the challenge waiting for a response of the accuracy of our results."
   ]
  },
  {
   "cell_type": "code",
   "execution_count": 12,
   "metadata": {},
   "outputs": [
    {
     "name": "stdout",
     "output_type": "stream",
     "text": [
      "(208, 64, 59)\n",
      "(70, 64, 59)\n",
      "(208, 1)\n",
      "(70, 1)\n"
     ]
    }
   ],
   "source": [
    "# We divide our training data in validation and train data\n",
    "train_trainData_X = trainData_X[:208]\n",
    "validation_trainData_X = trainData_X[208:]\n",
    "\n",
    "# We do the same for the labels\n",
    "train_trainData_Y = trainData_Y[:208]\n",
    "validation_trainData_Y = trainData_Y[208:]\n",
    "\n",
    "print(train_trainData_X.shape)\n",
    "print(validation_trainData_X.shape)\n",
    "\n",
    "print(train_trainData_Y.shape)\n",
    "print(validation_trainData_Y.shape)"
   ]
  },
  {
   "cell_type": "markdown",
   "metadata": {},
   "source": [
    "# Time series classification with RNN"
   ]
  },
  {
   "cell_type": "markdown",
   "metadata": {},
   "source": [
    "For our first implementation we chose to use Recurrent Neural Networks. Apart from the recommendation of the description of the problem, we consider it an appropriate class of artificial neural network as several studies claim that RNNs are proven to perform better when analyzing data in a time series. "
   ]
  },
  {
   "cell_type": "markdown",
   "metadata": {},
   "source": [
    "### Hyperparameters Configuration "
   ]
  },
  {
   "cell_type": "code",
   "execution_count": 13,
   "metadata": {},
   "outputs": [],
   "source": [
    "# We clear the default graph stack and reset the global default graph\n",
    "tf.reset_default_graph()\n",
    "\n",
    "# Training Parameters\n",
    "learning_rate = 0.001 # How fast the weights update\n",
    "training_epochs = 208\n",
    "# For computational reasons, we will process data in mini-batches of size batch_size\n",
    "batch_size = 70 # Number of samples that will be propagated through the network\n",
    "total_batches = (train_trainData_X.shape[0]//batch_size) # Number of batches\n",
    "display_step = 200 # Show results every 'display' step\n",
    "\n",
    "# Network Parameters \n",
    "n_input = 64 # Number of inputs\n",
    "n_steps = 59 # Number of steps per input\n",
    "n_hidden = 64 # Hidden layer num of features\n",
    "# We will consider the number of classes is equal to 1, \n",
    "# therefore, we will be using the sigmoid function to determine whether a \n",
    "# case will be assigned label 0 or 1.\n",
    "n_classes = 1 \n",
    "\n",
    "\n",
    "alpha = 0.5 # Hyper-parameter of the combined loss function"
   ]
  },
  {
   "cell_type": "markdown",
   "metadata": {},
   "source": [
    "### Input/Output placeholders for Tensorflow graph"
   ]
  },
  {
   "cell_type": "markdown",
   "metadata": {},
   "source": [
    "A *placeholder* is simply a variable that we will assign data to at a later date. It allows us to create our operations and build our computation graph, without needing the data. In *TensorFlow* terminology, we then *feed* data into the graph through these placeholders.\n",
    "\n",
    "In this Recurrent Neural Network, our data is tridimensional. The first dimension of the placeholder is *None*, meaning we can have any number of rows."
   ]
  },
  {
   "cell_type": "code",
   "execution_count": 14,
   "metadata": {},
   "outputs": [],
   "source": [
    "x = tf.placeholder(\"float\", [None, n_steps, n_input]) # shape: [batch_size, n_steps, n_inputs]\n",
    "y = tf.placeholder(\"float\", [None, n_classes])\n",
    "y_steps = tf.placeholder(\"float\", [None, n_classes])"
   ]
  },
  {
   "cell_type": "markdown",
   "metadata": {},
   "source": [
    "### Helper methods"
   ]
  },
  {
   "cell_type": "markdown",
   "metadata": {},
   "source": [
    "- **weight_variable**: Helper function to create a weight variable initialized with a normal distribution.\n",
    "- **bias_variable**: Helper function to create a bias variable initialized with a constant value."
   ]
  },
  {
   "cell_type": "code",
   "execution_count": 15,
   "metadata": {},
   "outputs": [],
   "source": [
    "def weight_variable(shape):\n",
    "    initial = tf.truncated_normal(shape, stddev = 0.1)\n",
    "    return tf.Variable(initial)\n",
    "\n",
    "def bias_variable(shape):\n",
    "    initial = tf.constant(0.0, shape = shape)\n",
    "    return tf.Variable(initial)"
   ]
  },
  {
   "cell_type": "markdown",
   "metadata": {},
   "source": [
    "## LSTM using Tensorflow"
   ]
  },
  {
   "cell_type": "markdown",
   "metadata": {},
   "source": [
    "Our first RNN uses Long short-term memory units, which are powerful and increasingly popular models for learning from sequence data. They effectively model varying length sequences and capture long range dependencies.\n",
    "- **LSTM**: Helper function to create the model architecture for LSTM units."
   ]
  },
  {
   "cell_type": "code",
   "execution_count": 16,
   "metadata": {},
   "outputs": [],
   "source": [
    "def LSTM(x, weight, bias):\n",
    "    # We create a Long Short-Term Memory unit (LSTM) recurrent network cell\n",
    "    cell = rnn_cell.LSTMCell(n_hidden,state_is_tuple = True)\n",
    "    # RNN cell composed sequentially of multiple simple cells\n",
    "    multi_layer_cell = tf.nn.rnn_cell.MultiRNNCell([cell] * 2)\n",
    "    # We create a recurrent neural network specified by 'multi_layer_cell' and 'x' placeholder\n",
    "    output, state = tf.nn.dynamic_rnn(multi_layer_cell, x, dtype = tf.float32)\n",
    "    # We reshape the tensor (maintaining its value) with the special value -1 , in this way,\n",
    "    # the size of that dimension is computed so that the total size remains constant\n",
    "    output_flattened = tf.reshape(output, [-1, n_hidden])\n",
    "    # We multiply the tensor by the weight and add the bias\n",
    "    output_logits = tf.add(tf.matmul(output_flattened,weight),bias)\n",
    "    # We compute sigmoid of 'output_logits' element-wise. Specifically, y = 1 / (1 + exp(-x)).\n",
    "    output_all = tf.nn.sigmoid(output_logits)\n",
    "    # We reshape the output \n",
    "    output_reshaped = tf.reshape(output_all,[-1,n_steps,n_classes])\n",
    "    # Gather slices from the transpose of the reshaped output according to n_steps - 1.\n",
    "    output_last = tf.gather(tf.transpose(output_reshaped,[1,0,2]), n_steps - 1)\n",
    "    # We return the last step and all steps\n",
    "    return output_last, output_all"
   ]
  },
  {
   "cell_type": "code",
   "execution_count": 17,
   "metadata": {},
   "outputs": [
    {
     "name": "stdout",
     "output_type": "stream",
     "text": [
      "WARNING:tensorflow:At least two cells provided to MultiRNNCell are the same object and will share weights.\n"
     ]
    }
   ],
   "source": [
    "weight = weight_variable([n_hidden,n_classes])\n",
    "bias = bias_variable([n_classes])\n",
    "y_last, y_all = LSTM(x,weight,bias)"
   ]
  },
  {
   "cell_type": "markdown",
   "metadata": {},
   "source": [
    "### Loss function: binary cross entropy and target replication"
   ]
  },
  {
   "cell_type": "markdown",
   "metadata": {},
   "source": [
    "Loss function used in the paper is a combination of two losses \n",
    " - average loss of each time step prediction \n",
    " - loss of the prediction calculated at the last time step. Alpha in the combined loss function is a hyper-parameter. See this  [paper](https://arxiv.org/abs/1511.03677) for more information on target replication and loss function."
   ]
  },
  {
   "cell_type": "code",
   "execution_count": 18,
   "metadata": {},
   "outputs": [
    {
     "name": "stderr",
     "output_type": "stream",
     "text": [
      "C:\\Users\\elsas.DESKTOP-DVRVL8F\\Anaconda3\\lib\\site-packages\\tensorflow\\python\\ops\\gradients_impl.py:108: UserWarning: Converting sparse IndexedSlices to a dense Tensor of unknown shape. This may consume a large amount of memory.\n",
      "  \"Converting sparse IndexedSlices to a dense Tensor of unknown shape. \"\n"
     ]
    }
   ],
   "source": [
    "all_steps_cost = -tf.reduce_mean((y_steps * tf.log(y_all))  + (1 - y_steps) * tf.log(1 - y_all))\n",
    "last_step_cost = -tf.reduce_mean((y * tf.log(y_last)) + ((1 - y) * tf.log(1 - y_last)))\n",
    "loss_function = (alpha * all_steps_cost) + ((1 - alpha) * last_step_cost)\n",
    "\n",
    "optimizer = tf.train.AdamOptimizer(learning_rate = learning_rate).minimize(loss_function)"
   ]
  },
  {
   "cell_type": "markdown",
   "metadata": {},
   "source": [
    "### Training and testing the model"
   ]
  },
  {
   "cell_type": "markdown",
   "metadata": {},
   "source": [
    "For the training and testing of the model we have gone through the epochs and total amount of batches. At first we wanted to loop through each of the examples ranged in the training data, as we consider it is a better practice. Nevertheless, as the results we were obtaining were out of range (NaN), the only way we were capable of obtaining some results was to decrease the number of training_epochs to 1 or 2, which resulted in the model giving us very poor results. For this reason, we have commented that line."
   ]
  },
  {
   "cell_type": "code",
   "execution_count": 19,
   "metadata": {},
   "outputs": [
    {
     "name": "stdout",
     "output_type": "stream",
     "text": [
      "ROC AUC Score validation:  0.46568627450980393\n",
      "ROC AUC Score train:  0.6718027734976888\n",
      "ROC AUC Score validation:  0.4934640522875817\n",
      "ROC AUC Score train:  0.7575757575757576\n",
      "ROC AUC Score validation:  0.49101307189542487\n",
      "ROC AUC Score train:  0.84375\n",
      "ROC AUC Score validation:  0.5334967320261438\n",
      "ROC AUC Score train:  0.9024390243902439\n",
      "ROC AUC Score validation:  0.5318627450980392\n",
      "ROC AUC Score train:  0.9342105263157895\n",
      "ROC AUC Score validation:  0.5326797385620915\n",
      "ROC AUC Score train:  0.9230769230769231\n",
      "ROC AUC Score validation:  0.5024509803921569\n",
      "ROC AUC Score train:  0.9714285714285714\n",
      "ROC AUC Score validation:  0.5302287581699346\n",
      "ROC AUC Score train:  1.0\n",
      "ROC AUC Score validation:  0.5147058823529412\n",
      "ROC AUC Score train:  1.0\n",
      "ROC AUC Score validation:  0.47140522875817\n",
      "ROC AUC Score train:  1.0\n",
      "ROC AUC Score validation:  0.47058823529411764\n",
      "ROC AUC Score train:  1.0\n",
      "ROC AUC Score validation:  0.5\n",
      "ROC AUC Score train:  0.9852941176470588\n",
      "ROC AUC Score validation:  0.5130718954248366\n",
      "ROC AUC Score train:  0.9713349713349714\n",
      "ROC AUC Score validation:  0.4591503267973856\n",
      "ROC AUC Score train:  0.9852941176470588\n",
      "ROC AUC Score validation:  0.46895424836601307\n",
      "ROC AUC Score train:  1.0\n",
      "ROC AUC Score validation:  0.48774509803921573\n",
      "ROC AUC Score train:  1.0\n",
      "ROC AUC Score validation:  0.4436274509803922\n",
      "ROC AUC Score train:  1.0\n",
      "ROC AUC Score validation:  0.49836601307189543\n",
      "ROC AUC Score train:  1.0\n",
      "ROC AUC Score validation:  0.5024509803921569\n",
      "ROC AUC Score train:  1.0\n",
      "ROC AUC Score validation:  0.548202614379085\n",
      "ROC AUC Score train:  1.0\n",
      "ROC AUC Score validation:  0.5874183006535947\n",
      "ROC AUC Score train:  1.0\n",
      "ROC AUC Score validation:  0.5563725490196079\n",
      "ROC AUC Score train:  1.0\n",
      "ROC AUC Score validation:  0.5155228758169935\n",
      "ROC AUC Score train:  1.0\n",
      "ROC AUC Score validation:  0.4738562091503268\n",
      "ROC AUC Score train:  1.0\n",
      "ROC AUC Score validation:  0.4722222222222222\n",
      "ROC AUC Score train:  1.0\n",
      "ROC AUC Score validation:  0.48692810457516333\n",
      "ROC AUC Score train:  1.0\n",
      "ROC AUC Score validation:  0.41748366013071897\n",
      "ROC AUC Score train:  1.0\n",
      "ROC AUC Score validation:  0.4281045751633987\n",
      "ROC AUC Score train:  1.0\n",
      "ROC AUC Score validation:  0.4452614379084967\n",
      "ROC AUC Score train:  1.0\n",
      "ROC AUC Score validation:  0.4730392156862745\n",
      "ROC AUC Score train:  1.0\n",
      "ROC AUC Score validation:  0.4281045751633987\n",
      "ROC AUC Score train:  1.0\n",
      "ROC AUC Score validation:  0.4452614379084967\n",
      "ROC AUC Score train:  1.0\n",
      "ROC AUC Score validation:  0.4436274509803922\n",
      "ROC AUC Score train:  1.0\n",
      "ROC AUC Score validation:  0.4436274509803922\n",
      "ROC AUC Score train:  1.0\n",
      "ROC AUC Score validation:  0.4436274509803922\n",
      "ROC AUC Score train:  1.0\n",
      "ROC AUC Score validation:  0.428921568627451\n",
      "ROC AUC Score train:  1.0\n",
      "ROC AUC Score validation:  0.4436274509803922\n",
      "ROC AUC Score train:  1.0\n",
      "ROC AUC Score validation:  0.4281045751633987\n",
      "ROC AUC Score train:  1.0\n",
      "ROC AUC Score validation:  0.4297385620915033\n",
      "ROC AUC Score train:  1.0\n",
      "ROC AUC Score validation:  0.42728758169934644\n",
      "ROC AUC Score train:  1.0\n",
      "ROC AUC Score validation:  0.4436274509803922\n",
      "ROC AUC Score train:  1.0\n",
      "ROC AUC Score validation:  0.4550653594771241\n",
      "ROC AUC Score train:  1.0\n",
      "ROC AUC Score validation:  0.47140522875817\n",
      "ROC AUC Score train:  1.0\n",
      "ROC AUC Score validation:  0.4959150326797385\n",
      "ROC AUC Score train:  1.0\n",
      "ROC AUC Score validation:  0.553921568627451\n",
      "ROC AUC Score train:  1.0\n",
      "ROC AUC Score validation:  0.5138888888888888\n",
      "ROC AUC Score train:  1.0\n",
      "ROC AUC Score validation:  0.5571895424836601\n",
      "ROC AUC Score train:  1.0\n",
      "ROC AUC Score validation:  0.5416666666666667\n",
      "ROC AUC Score train:  1.0\n",
      "ROC AUC Score validation:  0.553921568627451\n",
      "ROC AUC Score train:  1.0\n",
      "ROC AUC Score validation:  0.5392156862745098\n",
      "ROC AUC Score train:  1.0\n",
      "ROC AUC Score validation:  0.5245098039215685\n",
      "ROC AUC Score train:  1.0\n",
      "ROC AUC Score validation:  0.5106209150326797\n",
      "ROC AUC Score train:  1.0\n",
      "ROC AUC Score validation:  0.4959150326797385\n",
      "ROC AUC Score train:  1.0\n",
      "ROC AUC Score validation:  0.5098039215686274\n",
      "ROC AUC Score train:  1.0\n",
      "ROC AUC Score validation:  0.5245098039215685\n",
      "ROC AUC Score train:  1.0\n",
      "ROC AUC Score validation:  0.511437908496732\n",
      "ROC AUC Score train:  1.0\n",
      "ROC AUC Score validation:  0.5245098039215685\n",
      "ROC AUC Score train:  1.0\n",
      "ROC AUC Score validation:  0.5236928104575164\n",
      "ROC AUC Score train:  1.0\n",
      "ROC AUC Score validation:  0.48120915032679734\n",
      "ROC AUC Score train:  1.0\n",
      "ROC AUC Score validation:  0.49428104575163395\n",
      "ROC AUC Score train:  1.0\n",
      "ROC AUC Score validation:  0.6004901960784315\n",
      "ROC AUC Score train:  1.0\n",
      "ROC AUC Score validation:  0.6454248366013072\n",
      "ROC AUC Score train:  1.0\n",
      "ROC AUC Score validation:  0.6601307189542484\n",
      "ROC AUC Score train:  0.9852941176470588\n",
      "ROC AUC Score validation:  0.6895424836601307\n",
      "ROC AUC Score train:  0.9852941176470588\n",
      "ROC AUC Score validation:  0.7181372549019608\n",
      "ROC AUC Score train:  0.9852941176470588\n",
      "ROC AUC Score validation:  0.6887254901960785\n",
      "ROC AUC Score train:  0.9852941176470588\n",
      "ROC AUC Score validation:  0.6601307189542484\n",
      "ROC AUC Score train:  1.0\n",
      "ROC AUC Score validation:  0.6437908496732027\n",
      "ROC AUC Score train:  1.0\n",
      "ROC AUC Score validation:  0.6143790849673203\n",
      "ROC AUC Score train:  1.0\n",
      "ROC AUC Score validation:  0.5996732026143792\n",
      "ROC AUC Score train:  1.0\n",
      "ROC AUC Score validation:  0.5996732026143792\n",
      "ROC AUC Score train:  1.0\n",
      "ROC AUC Score validation:  0.5710784313725491\n",
      "ROC AUC Score train:  1.0\n",
      "ROC AUC Score validation:  0.5710784313725491\n",
      "ROC AUC Score train:  1.0\n",
      "ROC AUC Score validation:  0.5710784313725491\n",
      "ROC AUC Score train:  1.0\n",
      "ROC AUC Score validation:  0.5710784313725491\n",
      "ROC AUC Score train:  1.0\n",
      "ROC AUC Score validation:  0.5433006535947712\n",
      "ROC AUC Score train:  1.0\n",
      "ROC AUC Score validation:  0.542483660130719\n",
      "ROC AUC Score train:  1.0\n",
      "ROC AUC Score validation:  0.542483660130719\n",
      "ROC AUC Score train:  1.0\n",
      "ROC AUC Score validation:  0.5563725490196079\n",
      "ROC AUC Score train:  1.0\n",
      "ROC AUC Score validation:  0.5563725490196079\n",
      "ROC AUC Score train:  1.0\n",
      "ROC AUC Score validation:  0.542483660130719\n",
      "ROC AUC Score train:  1.0\n",
      "ROC AUC Score validation:  0.5563725490196079\n",
      "ROC AUC Score train:  1.0\n",
      "ROC AUC Score validation:  0.5710784313725491\n",
      "ROC AUC Score train:  1.0\n",
      "ROC AUC Score validation:  0.5563725490196079\n",
      "ROC AUC Score train:  1.0\n",
      "ROC AUC Score validation:  0.5269607843137255\n",
      "ROC AUC Score train:  1.0\n",
      "ROC AUC Score validation:  0.5285947712418301\n",
      "ROC AUC Score train:  1.0\n",
      "ROC AUC Score validation:  0.5294117647058824\n",
      "ROC AUC Score train:  1.0\n",
      "ROC AUC Score validation:  0.5155228758169935\n",
      "ROC AUC Score train:  1.0\n",
      "ROC AUC Score validation:  0.48611111111111116\n",
      "ROC AUC Score train:  1.0\n",
      "ROC AUC Score validation:  0.48611111111111116\n",
      "ROC AUC Score train:  1.0\n",
      "ROC AUC Score validation:  0.5\n",
      "ROC AUC Score train:  1.0\n",
      "ROC AUC Score validation:  0.5147058823529412\n",
      "ROC AUC Score train:  1.0\n",
      "ROC AUC Score validation:  0.5285947712418301\n",
      "ROC AUC Score train:  1.0\n",
      "ROC AUC Score validation:  0.5147058823529412\n",
      "ROC AUC Score train:  1.0\n",
      "ROC AUC Score validation:  0.5147058823529412\n",
      "ROC AUC Score train:  1.0\n",
      "ROC AUC Score validation:  0.5\n",
      "ROC AUC Score train:  1.0\n",
      "ROC AUC Score validation:  0.48529411764705876\n",
      "ROC AUC Score train:  1.0\n",
      "ROC AUC Score validation:  0.48529411764705876\n",
      "ROC AUC Score train:  1.0\n",
      "ROC AUC Score validation:  0.4558823529411765\n",
      "ROC AUC Score train:  1.0\n",
      "ROC AUC Score validation:  0.49918300653594766\n",
      "ROC AUC Score train:  1.0\n",
      "ROC AUC Score validation:  0.5130718954248366\n",
      "ROC AUC Score train:  1.0\n",
      "ROC AUC Score validation:  0.4844771241830065\n",
      "ROC AUC Score train:  1.0\n",
      "ROC AUC Score validation:  0.5130718954248366\n",
      "ROC AUC Score train:  1.0\n",
      "ROC AUC Score validation:  0.49918300653594766\n",
      "ROC AUC Score train:  1.0\n",
      "ROC AUC Score validation:  0.4697712418300653\n",
      "ROC AUC Score train:  1.0\n",
      "ROC AUC Score validation:  0.4844771241830065\n",
      "ROC AUC Score train:  1.0\n",
      "ROC AUC Score validation:  0.4419934640522876\n",
      "ROC AUC Score train:  1.0\n",
      "ROC AUC Score validation:  0.47140522875817\n",
      "ROC AUC Score train:  1.0\n",
      "ROC AUC Score validation:  0.4697712418300653\n",
      "ROC AUC Score train:  1.0\n",
      "ROC AUC Score validation:  0.5130718954248366\n",
      "ROC AUC Score train:  1.0\n",
      "ROC AUC Score validation:  0.5416666666666667\n",
      "ROC AUC Score train:  1.0\n",
      "ROC AUC Score validation:  0.5555555555555556\n",
      "ROC AUC Score train:  1.0\n"
     ]
    },
    {
     "name": "stdout",
     "output_type": "stream",
     "text": [
      "ROC AUC Score validation:  0.49918300653594766\n",
      "ROC AUC Score train:  1.0\n",
      "ROC AUC Score validation:  0.5702614379084968\n",
      "ROC AUC Score train:  1.0\n",
      "ROC AUC Score validation:  0.5138888888888888\n",
      "ROC AUC Score train:  1.0\n",
      "ROC AUC Score validation:  0.5433006535947712\n",
      "ROC AUC Score train:  1.0\n",
      "ROC AUC Score validation:  0.5285947712418301\n",
      "ROC AUC Score train:  1.0\n",
      "ROC AUC Score validation:  0.5138888888888888\n",
      "ROC AUC Score train:  1.0\n",
      "ROC AUC Score validation:  0.5147058823529412\n",
      "ROC AUC Score train:  1.0\n",
      "ROC AUC Score validation:  0.5008169934640523\n",
      "ROC AUC Score train:  1.0\n",
      "ROC AUC Score validation:  0.5155228758169935\n",
      "ROC AUC Score train:  1.0\n",
      "ROC AUC Score validation:  0.5\n",
      "ROC AUC Score train:  1.0\n",
      "ROC AUC Score validation:  0.5\n",
      "ROC AUC Score train:  1.0\n",
      "ROC AUC Score validation:  0.48529411764705876\n",
      "ROC AUC Score train:  1.0\n",
      "ROC AUC Score validation:  0.47058823529411764\n",
      "ROC AUC Score train:  1.0\n",
      "ROC AUC Score validation:  0.4575163398692811\n",
      "ROC AUC Score train:  1.0\n",
      "ROC AUC Score validation:  0.4575163398692811\n",
      "ROC AUC Score train:  1.0\n",
      "ROC AUC Score validation:  0.41503267973856206\n",
      "ROC AUC Score train:  1.0\n",
      "ROC AUC Score validation:  0.428921568627451\n",
      "ROC AUC Score train:  1.0\n",
      "ROC AUC Score validation:  0.38725490196078427\n",
      "ROC AUC Score train:  1.0\n",
      "ROC AUC Score validation:  0.4011437908496732\n",
      "ROC AUC Score train:  1.0\n",
      "ROC AUC Score validation:  0.40032679738562094\n",
      "ROC AUC Score train:  1.0\n",
      "ROC AUC Score validation:  0.41503267973856206\n",
      "ROC AUC Score train:  1.0\n",
      "ROC AUC Score validation:  0.3725490196078431\n",
      "ROC AUC Score train:  1.0\n",
      "ROC AUC Score validation:  0.4158496732026144\n",
      "ROC AUC Score train:  1.0\n",
      "ROC AUC Score validation:  0.4436274509803922\n",
      "ROC AUC Score train:  1.0\n",
      "ROC AUC Score validation:  0.4436274509803922\n",
      "ROC AUC Score train:  1.0\n",
      "ROC AUC Score validation:  0.4436274509803922\n",
      "ROC AUC Score train:  1.0\n",
      "ROC AUC Score validation:  0.4297385620915033\n",
      "ROC AUC Score train:  1.0\n",
      "ROC AUC Score validation:  0.5\n",
      "ROC AUC Score train:  1.0\n",
      "ROC AUC Score validation:  0.4436274509803922\n",
      "ROC AUC Score train:  1.0\n",
      "ROC AUC Score validation:  0.4436274509803922\n",
      "ROC AUC Score train:  1.0\n",
      "ROC AUC Score validation:  0.4566993464052288\n",
      "ROC AUC Score train:  1.0\n",
      "ROC AUC Score validation:  0.44281045751633985\n",
      "ROC AUC Score train:  1.0\n",
      "ROC AUC Score validation:  0.44281045751633985\n",
      "ROC AUC Score train:  1.0\n",
      "ROC AUC Score validation:  0.428921568627451\n",
      "ROC AUC Score train:  1.0\n",
      "ROC AUC Score validation:  0.41503267973856206\n",
      "ROC AUC Score train:  1.0\n",
      "ROC AUC Score validation:  0.41503267973856206\n",
      "ROC AUC Score train:  1.0\n",
      "ROC AUC Score validation:  0.4297385620915033\n",
      "ROC AUC Score train:  1.0\n",
      "ROC AUC Score validation:  0.428921568627451\n",
      "ROC AUC Score train:  1.0\n",
      "ROC AUC Score validation:  0.4436274509803922\n",
      "ROC AUC Score train:  1.0\n",
      "ROC AUC Score validation:  0.47140522875817\n",
      "ROC AUC Score train:  1.0\n",
      "ROC AUC Score validation:  0.4436274509803922\n",
      "ROC AUC Score train:  1.0\n",
      "ROC AUC Score validation:  0.4575163398692811\n",
      "ROC AUC Score train:  1.0\n",
      "ROC AUC Score validation:  0.4575163398692811\n",
      "ROC AUC Score train:  1.0\n",
      "ROC AUC Score validation:  0.4575163398692811\n",
      "ROC AUC Score train:  1.0\n",
      "ROC AUC Score validation:  0.44281045751633985\n",
      "ROC AUC Score train:  1.0\n",
      "ROC AUC Score validation:  0.45833333333333337\n",
      "ROC AUC Score train:  1.0\n",
      "ROC AUC Score validation:  0.47140522875817\n",
      "ROC AUC Score train:  1.0\n",
      "ROC AUC Score validation:  0.48611111111111116\n",
      "ROC AUC Score train:  1.0\n",
      "ROC AUC Score validation:  0.4566993464052288\n",
      "ROC AUC Score train:  1.0\n",
      "ROC AUC Score validation:  0.4575163398692811\n",
      "ROC AUC Score train:  1.0\n",
      "ROC AUC Score validation:  0.428921568627451\n",
      "ROC AUC Score train:  1.0\n",
      "ROC AUC Score validation:  0.4575163398692811\n",
      "ROC AUC Score train:  1.0\n",
      "ROC AUC Score validation:  0.44281045751633985\n",
      "ROC AUC Score train:  1.0\n",
      "ROC AUC Score validation:  0.4575163398692811\n",
      "ROC AUC Score train:  1.0\n",
      "ROC AUC Score validation:  0.44281045751633985\n",
      "ROC AUC Score train:  1.0\n",
      "ROC AUC Score validation:  0.47140522875817\n",
      "ROC AUC Score train:  1.0\n",
      "ROC AUC Score validation:  0.47140522875817\n",
      "ROC AUC Score train:  1.0\n",
      "ROC AUC Score validation:  0.44281045751633985\n",
      "ROC AUC Score train:  1.0\n",
      "ROC AUC Score validation:  0.4575163398692811\n",
      "ROC AUC Score train:  1.0\n",
      "ROC AUC Score validation:  0.4722222222222222\n",
      "ROC AUC Score train:  1.0\n",
      "ROC AUC Score validation:  0.44281045751633985\n",
      "ROC AUC Score train:  1.0\n",
      "ROC AUC Score validation:  0.4566993464052288\n",
      "ROC AUC Score train:  1.0\n",
      "ROC AUC Score validation:  0.4566993464052288\n",
      "ROC AUC Score train:  1.0\n",
      "ROC AUC Score validation:  0.47140522875817\n",
      "ROC AUC Score train:  1.0\n",
      "ROC AUC Score validation:  0.47140522875817\n",
      "ROC AUC Score train:  1.0\n",
      "ROC AUC Score validation:  0.48611111111111116\n",
      "ROC AUC Score train:  1.0\n",
      "ROC AUC Score validation:  0.48529411764705876\n",
      "ROC AUC Score train:  1.0\n",
      "ROC AUC Score validation:  0.5\n",
      "ROC AUC Score train:  1.0\n",
      "ROC AUC Score validation:  0.48611111111111116\n",
      "ROC AUC Score train:  1.0\n",
      "ROC AUC Score validation:  0.48529411764705876\n",
      "ROC AUC Score train:  1.0\n",
      "ROC AUC Score validation:  0.5\n",
      "ROC AUC Score train:  1.0\n",
      "ROC AUC Score validation:  0.48529411764705876\n",
      "ROC AUC Score train:  1.0\n",
      "ROC AUC Score validation:  0.48529411764705876\n",
      "ROC AUC Score train:  1.0\n",
      "ROC AUC Score validation:  0.5\n",
      "ROC AUC Score train:  1.0\n",
      "ROC AUC Score validation:  0.4722222222222222\n",
      "ROC AUC Score train:  1.0\n",
      "ROC AUC Score validation:  0.48611111111111116\n",
      "ROC AUC Score train:  1.0\n",
      "ROC AUC Score validation:  0.5008169934640523\n",
      "ROC AUC Score train:  1.0\n",
      "ROC AUC Score validation:  0.5285947712418301\n",
      "ROC AUC Score train:  1.0\n",
      "ROC AUC Score validation:  0.48692810457516333\n",
      "ROC AUC Score train:  1.0\n",
      "ROC AUC Score validation:  0.5269607843137255\n",
      "ROC AUC Score train:  1.0\n",
      "ROC AUC Score validation:  0.5285947712418301\n",
      "ROC AUC Score train:  1.0\n",
      "ROC AUC Score validation:  0.49918300653594766\n",
      "ROC AUC Score train:  1.0\n",
      "ROC AUC Score validation:  0.542483660130719\n",
      "ROC AUC Score train:  1.0\n",
      "ROC AUC Score validation:  0.542483660130719\n",
      "ROC AUC Score train:  1.0\n",
      "ROC AUC Score validation:  0.5269607843137255\n",
      "ROC AUC Score train:  1.0\n",
      "ROC AUC Score validation:  0.5277777777777778\n",
      "ROC AUC Score train:  1.0\n",
      "ROC AUC Score validation:  0.5416666666666667\n",
      "ROC AUC Score train:  1.0\n",
      "ROC AUC Score validation:  0.5130718954248366\n",
      "ROC AUC Score train:  1.0\n",
      "ROC AUC Score validation:  0.5563725490196079\n",
      "ROC AUC Score train:  1.0\n",
      "ROC AUC Score validation:  0.5416666666666667\n",
      "ROC AUC Score train:  1.0\n",
      "ROC AUC Score validation:  0.5849673202614379\n",
      "ROC AUC Score train:  1.0\n",
      "ROC AUC Score validation:  0.5563725490196079\n",
      "ROC AUC Score train:  1.0\n",
      "ROC AUC Score validation:  0.5710784313725491\n",
      "ROC AUC Score train:  1.0\n",
      "ROC AUC Score validation:  0.542483660130719\n",
      "ROC AUC Score train:  1.0\n",
      "ROC AUC Score validation:  0.5555555555555556\n",
      "ROC AUC Score train:  1.0\n",
      "ROC AUC Score validation:  0.5433006535947712\n",
      "ROC AUC Score train:  1.0\n"
     ]
    }
   ],
   "source": [
    "with tf.Session() as session:\n",
    "    # We initialize all trainable variables before training starts\n",
    "    tf.global_variables_initializer().run()\n",
    "    #for example in range(len(train_trainData_X)):\n",
    "    for epoch in range(training_epochs):\n",
    "        for b in range(int(total_batches)):   \n",
    "\n",
    "            # We obtain the \"offset\" added to each unit in the neural network layer\n",
    "            offset = (b * batch_size) % (train_trainData_Y.shape[0] - batch_size)\n",
    "            batch_x = np.reshape(train_trainData_X[offset:(offset + batch_size), :],[-1,59,64])\n",
    "            batch_y = train_trainData_Y[offset:(offset + batch_size), :]\n",
    "            batch_y_steps = np.tile(batch_y,(batch_x.shape[1],1))\n",
    "\n",
    "            reshaped_validation_trainData_X = np.reshape(validation_trainData_X,[-1,59,64])\n",
    "            _, c = session.run([optimizer, loss_function],feed_dict={x: batch_x, y : batch_y, y_steps: batch_y_steps})   \n",
    "        # Our predictions are numbers between 0 and 1, as we are using sigmoid function\n",
    "        pred_y_validation = session.run(y_last,feed_dict={x:reshaped_validation_trainData_X})\n",
    "        pred_y_train = session.run(y_last,feed_dict={x:batch_x})\n",
    "        # To obtain the predicted classes we consider of class 0 the values less than 0.5 \n",
    "        # and 1 the values equals or greater than 0.5\n",
    "        pred_y_validation[pred_y_validation<0.5]=0\n",
    "        pred_y_validation[pred_y_validation>=0.5]=1\n",
    "        pred_y_train[pred_y_train<0.5]=0\n",
    "        pred_y_train[pred_y_train>=0.5]=1\n",
    "        # After that, we compute the AUC score which provides an aggregate measure of performance \n",
    "        # across all possible classification thresholds.\n",
    "        print(\"ROC AUC Score validation: \",roc_auc_score(validation_trainData_Y,pred_y_validation))\n",
    "        print(\"ROC AUC Score train: \",roc_auc_score(pred_y_train,batch_y))\n"
   ]
  },
  {
   "cell_type": "code",
   "execution_count": 20,
   "metadata": {
    "scrolled": false
   },
   "outputs": [
    {
     "data": {
      "image/png": "[encoded data removed]",
      "text/plain": [
       "<Figure size 432x288 with 1 Axes>"
      ]
     },
     "metadata": {
      "needs_background": "light"
     },
     "output_type": "display_data"
    }
   ],
   "source": [
    "y_validation=validation_trainData_Y\n",
    "\n",
    "# fpr means false-positive-rate\n",
    "# tpr means true-positive-rate\n",
    "fpr, tpr, _ = metrics.roc_curve(y_validation, pred_y_validation)\n",
    "auc_score = metrics.auc(fpr, tpr)\n",
    "\n",
    "plt.title('ROC Curve LSTM')\n",
    "plt.plot(fpr, tpr, label='AUC = {:.2f}'.format(auc_score))\n",
    "\n",
    "# We trace a diagonal to indicate where chance scores lie\n",
    "plt.plot([0,1],[0,1],'r--')\n",
    "\n",
    "plt.xlim([-0.1,1.1])\n",
    "plt.ylim([-0.1,1.1])\n",
    "plt.ylabel('True Positive Rate')\n",
    "plt.xlabel('False Positive Rate')\n",
    "\n",
    "plt.legend(loc='lower right')\n",
    "plt.show()\n",
    "\n"
   ]
  },
  {
   "cell_type": "markdown",
   "metadata": {},
   "source": [
    "## GRU using Tensorflow"
   ]
  },
  {
   "cell_type": "markdown",
   "metadata": {},
   "source": [
    "Secondly, we implemented another approach by using Gated Recurrent Units as a gating mechanism for the reason that they have shown to exhibit better performance on smaller datasets. This a useful alternative to compare the results of both approaches.\n",
    "\n",
    "- **GRU**: Helper function to create the model architecture for GRU units."
   ]
  },
  {
   "cell_type": "code",
   "execution_count": 21,
   "metadata": {},
   "outputs": [],
   "source": [
    "def GRU(x, weight, bias):\n",
    "    # We create a Gated Recurrent Unit cell\n",
    "    cell = rnn_cell.GRUCell(n_hidden)\n",
    "    # RNN cell composed sequentially of multiple simple cells\n",
    "    multi_layer_cell = tf.nn.rnn_cell.MultiRNNCell([cell] * 2)\n",
    "    # We create a recurrent neural network specified by 'multi_layer_cell' and 'x' placeholder\n",
    "    output, state = tf.nn.dynamic_rnn(multi_layer_cell, x, dtype = tf.float32)\n",
    "    # We reshape the tensor (maintaining its value) with the special value -1 , in this way,\n",
    "    # the size of that dimension is computed so that the total size remains constant\n",
    "    output_flattened = tf.reshape(output, [-1, n_hidden])\n",
    "    # We multiply the tensor by the weight and add the bias\n",
    "    output_logits = tf.add(tf.matmul(output_flattened,weight),bias)\n",
    "    # We compute sigmoid of 'output_logits' element-wise. Specifically, y = 1 / (1 + exp(-x)).\n",
    "    output_all = tf.nn.sigmoid(output_logits)\n",
    "    # We reshape the output \n",
    "    output_reshaped = tf.reshape(output_all,[-1,n_steps,n_classes])\n",
    "    # Gather slices from the transpose of the reshaped output according to n_steps - 1.\n",
    "    output_last = tf.gather(tf.transpose(output_reshaped,[1,0,2]), n_steps - 1)\n",
    "    # We return the last step and all steps\n",
    "    return output_last, output_all"
   ]
  },
  {
   "cell_type": "code",
   "execution_count": 22,
   "metadata": {},
   "outputs": [],
   "source": [
    "weight = weight_variable([n_hidden,n_classes])\n",
    "bias = bias_variable([n_classes])\n",
    "y_last, y_all = GRU(x,weight,bias)"
   ]
  },
  {
   "cell_type": "markdown",
   "metadata": {},
   "source": [
    "### Loss function: binary cross entropy and target replication"
   ]
  },
  {
   "cell_type": "markdown",
   "metadata": {},
   "source": [
    "As we have previously done for the LSTM, we compute the loss function."
   ]
  },
  {
   "cell_type": "code",
   "execution_count": 23,
   "metadata": {},
   "outputs": [
    {
     "name": "stderr",
     "output_type": "stream",
     "text": [
      "C:\\Users\\elsas.DESKTOP-DVRVL8F\\Anaconda3\\lib\\site-packages\\tensorflow\\python\\ops\\gradients_impl.py:108: UserWarning: Converting sparse IndexedSlices to a dense Tensor of unknown shape. This may consume a large amount of memory.\n",
      "  \"Converting sparse IndexedSlices to a dense Tensor of unknown shape. \"\n"
     ]
    }
   ],
   "source": [
    "all_steps_cost = -tf.reduce_mean((y_steps * tf.log(y_all))  + (1 - y_steps) * tf.log(1 - y_all))\n",
    "last_step_cost = -tf.reduce_mean((y * tf.log(y_last)) + ((1 - y) * tf.log(1 - y_last)))\n",
    "loss_function = (alpha * all_steps_cost) + ((1 - alpha) * last_step_cost)\n",
    "\n",
    "optimizer = tf.train.AdamOptimizer(learning_rate = learning_rate).minimize(loss_function)"
   ]
  },
  {
   "cell_type": "markdown",
   "metadata": {},
   "source": [
    "### Training and testing the model"
   ]
  },
  {
   "cell_type": "markdown",
   "metadata": {},
   "source": [
    "All of the process here is equal to the one in the previous cells. "
   ]
  },
  {
   "cell_type": "code",
   "execution_count": 24,
   "metadata": {},
   "outputs": [
    {
     "name": "stdout",
     "output_type": "stream",
     "text": [
      "ROC AUC Score validation:  0.4297385620915033\n",
      "ROC AUC Score train:  0.5041666666666667\n",
      "ROC AUC Score validation:  0.4297385620915033\n",
      "ROC AUC Score train:  0.6175986842105263\n",
      "ROC AUC Score validation:  0.4297385620915033\n",
      "ROC AUC Score train:  0.7615131578947368\n",
      "ROC AUC Score validation:  0.4297385620915033\n",
      "ROC AUC Score train:  0.8429276315789473\n",
      "ROC AUC Score validation:  0.45996732026143794\n",
      "ROC AUC Score train:  0.8717105263157895\n",
      "ROC AUC Score validation:  0.4313725490196078\n",
      "ROC AUC Score train:  0.8995098039215685\n",
      "ROC AUC Score validation:  0.4313725490196078\n",
      "ROC AUC Score train:  0.9566993464052288\n",
      "ROC AUC Score validation:  0.41666666666666663\n",
      "ROC AUC Score train:  0.9713349713349714\n",
      "ROC AUC Score validation:  0.4444444444444444\n",
      "ROC AUC Score train:  0.9713349713349714\n",
      "ROC AUC Score validation:  0.48611111111111116\n",
      "ROC AUC Score train:  0.9713349713349714\n",
      "ROC AUC Score validation:  0.48529411764705876\n",
      "ROC AUC Score train:  1.0\n",
      "ROC AUC Score validation:  0.49918300653594766\n",
      "ROC AUC Score train:  1.0\n",
      "ROC AUC Score validation:  0.49918300653594766\n",
      "ROC AUC Score train:  1.0\n",
      "ROC AUC Score validation:  0.5138888888888888\n",
      "ROC AUC Score train:  1.0\n",
      "ROC AUC Score validation:  0.5277777777777778\n",
      "ROC AUC Score train:  1.0\n",
      "ROC AUC Score validation:  0.5277777777777778\n",
      "ROC AUC Score train:  1.0\n",
      "ROC AUC Score validation:  0.5138888888888888\n",
      "ROC AUC Score train:  1.0\n",
      "ROC AUC Score validation:  0.4836601307189542\n",
      "ROC AUC Score train:  1.0\n",
      "ROC AUC Score validation:  0.5269607843137255\n",
      "ROC AUC Score train:  1.0\n",
      "ROC AUC Score validation:  0.49918300653594766\n",
      "ROC AUC Score train:  1.0\n",
      "ROC AUC Score validation:  0.5130718954248366\n",
      "ROC AUC Score train:  1.0\n",
      "ROC AUC Score validation:  0.5130718954248366\n",
      "ROC AUC Score train:  1.0\n",
      "ROC AUC Score validation:  0.49918300653594766\n",
      "ROC AUC Score train:  1.0\n",
      "ROC AUC Score validation:  0.5138888888888888\n",
      "ROC AUC Score train:  1.0\n",
      "ROC AUC Score validation:  0.5138888888888888\n",
      "ROC AUC Score train:  1.0\n",
      "ROC AUC Score validation:  0.5269607843137255\n",
      "ROC AUC Score train:  1.0\n",
      "ROC AUC Score validation:  0.5008169934640523\n",
      "ROC AUC Score train:  1.0\n",
      "ROC AUC Score validation:  0.5147058823529412\n",
      "ROC AUC Score train:  1.0\n",
      "ROC AUC Score validation:  0.49754901960784315\n",
      "ROC AUC Score train:  1.0\n",
      "ROC AUC Score validation:  0.5147058823529412\n",
      "ROC AUC Score train:  1.0\n",
      "ROC AUC Score validation:  0.49836601307189543\n",
      "ROC AUC Score train:  1.0\n",
      "ROC AUC Score validation:  0.49836601307189543\n",
      "ROC AUC Score train:  1.0\n",
      "ROC AUC Score validation:  0.5130718954248366\n",
      "ROC AUC Score train:  1.0\n",
      "ROC AUC Score validation:  0.49836601307189543\n",
      "ROC AUC Score train:  1.0\n",
      "ROC AUC Score validation:  0.5130718954248366\n",
      "ROC AUC Score train:  1.0\n",
      "ROC AUC Score validation:  0.5138888888888888\n",
      "ROC AUC Score train:  1.0\n",
      "ROC AUC Score validation:  0.5269607843137255\n",
      "ROC AUC Score train:  1.0\n",
      "ROC AUC Score validation:  0.5122549019607844\n",
      "ROC AUC Score train:  1.0\n",
      "ROC AUC Score validation:  0.5008169934640523\n",
      "ROC AUC Score train:  1.0\n",
      "ROC AUC Score validation:  0.5269607843137255\n",
      "ROC AUC Score train:  1.0\n",
      "ROC AUC Score validation:  0.5138888888888888\n",
      "ROC AUC Score train:  1.0\n",
      "ROC AUC Score validation:  0.5547385620915032\n",
      "ROC AUC Score train:  1.0\n",
      "ROC AUC Score validation:  0.5008169934640523\n",
      "ROC AUC Score train:  1.0\n",
      "ROC AUC Score validation:  0.553921568627451\n",
      "ROC AUC Score train:  1.0\n",
      "ROC AUC Score validation:  0.48692810457516333\n",
      "ROC AUC Score train:  1.0\n",
      "ROC AUC Score validation:  0.5555555555555556\n",
      "ROC AUC Score train:  1.0\n",
      "ROC AUC Score validation:  0.5008169934640523\n",
      "ROC AUC Score train:  1.0\n",
      "ROC AUC Score validation:  0.5008169934640523\n",
      "ROC AUC Score train:  1.0\n",
      "ROC AUC Score validation:  0.5130718954248366\n",
      "ROC AUC Score train:  1.0\n",
      "ROC AUC Score validation:  0.5008169934640523\n",
      "ROC AUC Score train:  1.0\n",
      "ROC AUC Score validation:  0.5408496732026143\n",
      "ROC AUC Score train:  1.0\n",
      "ROC AUC Score validation:  0.5\n",
      "ROC AUC Score train:  1.0\n",
      "ROC AUC Score validation:  0.5261437908496732\n",
      "ROC AUC Score train:  1.0\n",
      "ROC AUC Score validation:  0.5130718954248366\n",
      "ROC AUC Score train:  1.0\n",
      "ROC AUC Score validation:  0.5\n",
      "ROC AUC Score train:  1.0\n",
      "ROC AUC Score validation:  0.511437908496732\n",
      "ROC AUC Score train:  1.0\n",
      "ROC AUC Score validation:  0.5269607843137255\n",
      "ROC AUC Score train:  1.0\n",
      "ROC AUC Score validation:  0.49918300653594766\n",
      "ROC AUC Score train:  1.0\n",
      "ROC AUC Score validation:  0.5400326797385621\n",
      "ROC AUC Score train:  1.0\n",
      "ROC AUC Score validation:  0.5269607843137255\n",
      "ROC AUC Score train:  1.0\n",
      "ROC AUC Score validation:  0.5285947712418301\n",
      "ROC AUC Score train:  1.0\n",
      "ROC AUC Score validation:  0.5400326797385621\n",
      "ROC AUC Score train:  1.0\n",
      "ROC AUC Score validation:  0.5261437908496732\n",
      "ROC AUC Score train:  1.0\n",
      "ROC AUC Score validation:  0.5147058823529412\n",
      "ROC AUC Score train:  1.0\n",
      "ROC AUC Score validation:  0.5285947712418301\n",
      "ROC AUC Score train:  1.0\n",
      "ROC AUC Score validation:  0.49673202614379086\n",
      "ROC AUC Score train:  1.0\n",
      "ROC AUC Score validation:  0.5\n",
      "ROC AUC Score train:  1.0\n",
      "ROC AUC Score validation:  0.49754901960784315\n",
      "ROC AUC Score train:  1.0\n",
      "ROC AUC Score validation:  0.49754901960784315\n",
      "ROC AUC Score train:  1.0\n",
      "ROC AUC Score validation:  0.49836601307189543\n",
      "ROC AUC Score train:  1.0\n",
      "ROC AUC Score validation:  0.49754901960784315\n",
      "ROC AUC Score train:  1.0\n",
      "ROC AUC Score validation:  0.49754901960784315\n",
      "ROC AUC Score train:  1.0\n",
      "ROC AUC Score validation:  0.49918300653594766\n",
      "ROC AUC Score train:  1.0\n",
      "ROC AUC Score validation:  0.482843137254902\n",
      "ROC AUC Score train:  1.0\n",
      "ROC AUC Score validation:  0.4836601307189542\n",
      "ROC AUC Score train:  1.0\n",
      "ROC AUC Score validation:  0.4836601307189542\n",
      "ROC AUC Score train:  1.0\n",
      "ROC AUC Score validation:  0.4697712418300653\n",
      "ROC AUC Score train:  1.0\n",
      "ROC AUC Score validation:  0.4558823529411765\n",
      "ROC AUC Score train:  1.0\n",
      "ROC AUC Score validation:  0.4697712418300653\n",
      "ROC AUC Score train:  1.0\n",
      "ROC AUC Score validation:  0.4558823529411765\n",
      "ROC AUC Score train:  1.0\n",
      "ROC AUC Score validation:  0.4558823529411765\n",
      "ROC AUC Score train:  1.0\n",
      "ROC AUC Score validation:  0.4558823529411765\n",
      "ROC AUC Score train:  1.0\n",
      "ROC AUC Score validation:  0.4566993464052288\n",
      "ROC AUC Score train:  1.0\n",
      "ROC AUC Score validation:  0.4419934640522876\n",
      "ROC AUC Score train:  1.0\n",
      "ROC AUC Score validation:  0.4697712418300653\n",
      "ROC AUC Score train:  1.0\n",
      "ROC AUC Score validation:  0.4566993464052288\n",
      "ROC AUC Score train:  1.0\n",
      "ROC AUC Score validation:  0.4419934640522876\n",
      "ROC AUC Score train:  1.0\n",
      "ROC AUC Score validation:  0.49754901960784315\n",
      "ROC AUC Score train:  1.0\n",
      "ROC AUC Score validation:  0.4836601307189542\n",
      "ROC AUC Score train:  1.0\n",
      "ROC AUC Score validation:  0.4575163398692811\n",
      "ROC AUC Score train:  1.0\n",
      "ROC AUC Score validation:  0.4681372549019608\n",
      "ROC AUC Score train:  1.0\n",
      "ROC AUC Score validation:  0.49836601307189543\n",
      "ROC AUC Score train:  1.0\n",
      "ROC AUC Score validation:  0.5294117647058824\n",
      "ROC AUC Score train:  1.0\n",
      "ROC AUC Score validation:  0.49836601307189543\n",
      "ROC AUC Score train:  1.0\n",
      "ROC AUC Score validation:  0.46895424836601307\n",
      "ROC AUC Score train:  1.0\n",
      "ROC AUC Score validation:  0.5008169934640523\n",
      "ROC AUC Score train:  1.0\n",
      "ROC AUC Score validation:  0.5008169934640523\n",
      "ROC AUC Score train:  1.0\n",
      "ROC AUC Score validation:  0.4697712418300653\n",
      "ROC AUC Score train:  1.0\n",
      "ROC AUC Score validation:  0.4844771241830065\n",
      "ROC AUC Score train:  1.0\n",
      "ROC AUC Score validation:  0.5147058823529412\n",
      "ROC AUC Score train:  1.0\n",
      "ROC AUC Score validation:  0.4558823529411765\n",
      "ROC AUC Score train:  1.0\n",
      "ROC AUC Score validation:  0.4558823529411765\n",
      "ROC AUC Score train:  1.0\n",
      "ROC AUC Score validation:  0.48529411764705876\n",
      "ROC AUC Score train:  1.0\n",
      "ROC AUC Score validation:  0.4558823529411765\n",
      "ROC AUC Score train:  1.0\n",
      "ROC AUC Score validation:  0.4419934640522876\n",
      "ROC AUC Score train:  1.0\n",
      "ROC AUC Score validation:  0.48611111111111116\n",
      "ROC AUC Score train:  1.0\n",
      "ROC AUC Score validation:  0.48529411764705876\n",
      "ROC AUC Score train:  1.0\n",
      "ROC AUC Score validation:  0.48611111111111116\n",
      "ROC AUC Score train:  1.0\n",
      "ROC AUC Score validation:  0.48611111111111116\n",
      "ROC AUC Score train:  1.0\n",
      "ROC AUC Score validation:  0.48611111111111116\n",
      "ROC AUC Score train:  1.0\n",
      "ROC AUC Score validation:  0.48611111111111116\n",
      "ROC AUC Score train:  1.0\n",
      "ROC AUC Score validation:  0.48611111111111116\n",
      "ROC AUC Score train:  1.0\n"
     ]
    },
    {
     "name": "stdout",
     "output_type": "stream",
     "text": [
      "ROC AUC Score validation:  0.48611111111111116\n",
      "ROC AUC Score train:  1.0\n",
      "ROC AUC Score validation:  0.48529411764705876\n",
      "ROC AUC Score train:  1.0\n",
      "ROC AUC Score validation:  0.48529411764705876\n",
      "ROC AUC Score train:  1.0\n",
      "ROC AUC Score validation:  0.49918300653594766\n",
      "ROC AUC Score train:  1.0\n",
      "ROC AUC Score validation:  0.49918300653594766\n",
      "ROC AUC Score train:  1.0\n",
      "ROC AUC Score validation:  0.4844771241830065\n",
      "ROC AUC Score train:  1.0\n",
      "ROC AUC Score validation:  0.4844771241830065\n",
      "ROC AUC Score train:  1.0\n",
      "ROC AUC Score validation:  0.4844771241830065\n",
      "ROC AUC Score train:  1.0\n",
      "ROC AUC Score validation:  0.4844771241830065\n",
      "ROC AUC Score train:  1.0\n",
      "ROC AUC Score validation:  0.47058823529411764\n",
      "ROC AUC Score train:  1.0\n",
      "ROC AUC Score validation:  0.47058823529411764\n",
      "ROC AUC Score train:  1.0\n",
      "ROC AUC Score validation:  0.4844771241830065\n",
      "ROC AUC Score train:  1.0\n",
      "ROC AUC Score validation:  0.48529411764705876\n",
      "ROC AUC Score train:  1.0\n",
      "ROC AUC Score validation:  0.4722222222222222\n",
      "ROC AUC Score train:  1.0\n",
      "ROC AUC Score validation:  0.4411764705882353\n",
      "ROC AUC Score train:  1.0\n",
      "ROC AUC Score validation:  0.49918300653594766\n",
      "ROC AUC Score train:  1.0\n",
      "ROC AUC Score validation:  0.48611111111111116\n",
      "ROC AUC Score train:  1.0\n",
      "ROC AUC Score validation:  0.47058823529411764\n",
      "ROC AUC Score train:  1.0\n",
      "ROC AUC Score validation:  0.47058823529411764\n",
      "ROC AUC Score train:  1.0\n",
      "ROC AUC Score validation:  0.48611111111111116\n",
      "ROC AUC Score train:  1.0\n",
      "ROC AUC Score validation:  0.49918300653594766\n",
      "ROC AUC Score train:  1.0\n",
      "ROC AUC Score validation:  0.49918300653594766\n",
      "ROC AUC Score train:  1.0\n",
      "ROC AUC Score validation:  0.49918300653594766\n",
      "ROC AUC Score train:  1.0\n",
      "ROC AUC Score validation:  0.49836601307189543\n",
      "ROC AUC Score train:  1.0\n",
      "ROC AUC Score validation:  0.48529411764705876\n",
      "ROC AUC Score train:  1.0\n",
      "ROC AUC Score validation:  0.48529411764705876\n",
      "ROC AUC Score train:  1.0\n",
      "ROC AUC Score validation:  0.47058823529411764\n",
      "ROC AUC Score train:  1.0\n",
      "ROC AUC Score validation:  0.49918300653594766\n",
      "ROC AUC Score train:  1.0\n",
      "ROC AUC Score validation:  0.47058823529411764\n",
      "ROC AUC Score train:  1.0\n",
      "ROC AUC Score validation:  0.47058823529411764\n",
      "ROC AUC Score train:  1.0\n",
      "ROC AUC Score validation:  0.4697712418300653\n",
      "ROC AUC Score train:  1.0\n",
      "ROC AUC Score validation:  0.4697712418300653\n",
      "ROC AUC Score train:  1.0\n",
      "ROC AUC Score validation:  0.4697712418300653\n",
      "ROC AUC Score train:  1.0\n",
      "ROC AUC Score validation:  0.4697712418300653\n",
      "ROC AUC Score train:  1.0\n",
      "ROC AUC Score validation:  0.4697712418300653\n",
      "ROC AUC Score train:  1.0\n",
      "ROC AUC Score validation:  0.4836601307189542\n",
      "ROC AUC Score train:  1.0\n",
      "ROC AUC Score validation:  0.4836601307189542\n",
      "ROC AUC Score train:  1.0\n",
      "ROC AUC Score validation:  0.49836601307189543\n",
      "ROC AUC Score train:  1.0\n",
      "ROC AUC Score validation:  0.4836601307189542\n",
      "ROC AUC Score train:  1.0\n",
      "ROC AUC Score validation:  0.4836601307189542\n",
      "ROC AUC Score train:  1.0\n",
      "ROC AUC Score validation:  0.49836601307189543\n",
      "ROC AUC Score train:  1.0\n",
      "ROC AUC Score validation:  0.4836601307189542\n",
      "ROC AUC Score train:  1.0\n",
      "ROC AUC Score validation:  0.49836601307189543\n",
      "ROC AUC Score train:  1.0\n",
      "ROC AUC Score validation:  0.4836601307189542\n",
      "ROC AUC Score train:  1.0\n",
      "ROC AUC Score validation:  0.49836601307189543\n",
      "ROC AUC Score train:  1.0\n",
      "ROC AUC Score validation:  0.4836601307189542\n",
      "ROC AUC Score train:  1.0\n",
      "ROC AUC Score validation:  0.49836601307189543\n",
      "ROC AUC Score train:  1.0\n",
      "ROC AUC Score validation:  0.4836601307189542\n",
      "ROC AUC Score train:  1.0\n",
      "ROC AUC Score validation:  0.49836601307189543\n",
      "ROC AUC Score train:  1.0\n",
      "ROC AUC Score validation:  0.4836601307189542\n",
      "ROC AUC Score train:  1.0\n",
      "ROC AUC Score validation:  0.4836601307189542\n",
      "ROC AUC Score train:  1.0\n",
      "ROC AUC Score validation:  0.4836601307189542\n",
      "ROC AUC Score train:  1.0\n",
      "ROC AUC Score validation:  0.46895424836601307\n",
      "ROC AUC Score train:  1.0\n",
      "ROC AUC Score validation:  0.4836601307189542\n",
      "ROC AUC Score train:  1.0\n",
      "ROC AUC Score validation:  0.4836601307189542\n",
      "ROC AUC Score train:  1.0\n",
      "ROC AUC Score validation:  0.46895424836601307\n",
      "ROC AUC Score train:  1.0\n",
      "ROC AUC Score validation:  0.5\n",
      "ROC AUC Score train:  1.0\n",
      "ROC AUC Score validation:  0.5122549019607844\n",
      "ROC AUC Score train:  1.0\n",
      "ROC AUC Score validation:  0.4844771241830065\n",
      "ROC AUC Score train:  1.0\n",
      "ROC AUC Score validation:  0.4566993464052288\n",
      "ROC AUC Score train:  1.0\n",
      "ROC AUC Score validation:  0.4697712418300653\n",
      "ROC AUC Score train:  1.0\n",
      "ROC AUC Score validation:  0.4844771241830065\n",
      "ROC AUC Score train:  1.0\n",
      "ROC AUC Score validation:  0.47140522875817\n",
      "ROC AUC Score train:  1.0\n",
      "ROC AUC Score validation:  0.4844771241830065\n",
      "ROC AUC Score train:  1.0\n",
      "ROC AUC Score validation:  0.44281045751633985\n",
      "ROC AUC Score train:  1.0\n",
      "ROC AUC Score validation:  0.4697712418300653\n",
      "ROC AUC Score train:  1.0\n",
      "ROC AUC Score validation:  0.47140522875817\n",
      "ROC AUC Score train:  1.0\n",
      "ROC AUC Score validation:  0.4419934640522876\n",
      "ROC AUC Score train:  1.0\n",
      "ROC AUC Score validation:  0.4558823529411765\n",
      "ROC AUC Score train:  1.0\n",
      "ROC AUC Score validation:  0.4558823529411765\n",
      "ROC AUC Score train:  1.0\n",
      "ROC AUC Score validation:  0.4558823529411765\n",
      "ROC AUC Score train:  1.0\n",
      "ROC AUC Score validation:  0.4558823529411765\n",
      "ROC AUC Score train:  1.0\n",
      "ROC AUC Score validation:  0.4558823529411765\n",
      "ROC AUC Score train:  1.0\n",
      "ROC AUC Score validation:  0.47058823529411764\n",
      "ROC AUC Score train:  1.0\n",
      "ROC AUC Score validation:  0.4558823529411765\n",
      "ROC AUC Score train:  1.0\n",
      "ROC AUC Score validation:  0.47058823529411764\n",
      "ROC AUC Score train:  1.0\n",
      "ROC AUC Score validation:  0.47058823529411764\n",
      "ROC AUC Score train:  1.0\n",
      "ROC AUC Score validation:  0.47058823529411764\n",
      "ROC AUC Score train:  1.0\n",
      "ROC AUC Score validation:  0.47058823529411764\n",
      "ROC AUC Score train:  1.0\n",
      "ROC AUC Score validation:  0.47058823529411764\n",
      "ROC AUC Score train:  1.0\n",
      "ROC AUC Score validation:  0.47058823529411764\n",
      "ROC AUC Score train:  1.0\n",
      "ROC AUC Score validation:  0.47058823529411764\n",
      "ROC AUC Score train:  1.0\n",
      "ROC AUC Score validation:  0.47058823529411764\n",
      "ROC AUC Score train:  1.0\n",
      "ROC AUC Score validation:  0.47058823529411764\n",
      "ROC AUC Score train:  1.0\n",
      "ROC AUC Score validation:  0.47058823529411764\n",
      "ROC AUC Score train:  1.0\n",
      "ROC AUC Score validation:  0.47058823529411764\n",
      "ROC AUC Score train:  1.0\n",
      "ROC AUC Score validation:  0.48529411764705876\n",
      "ROC AUC Score train:  1.0\n",
      "ROC AUC Score validation:  0.48529411764705876\n",
      "ROC AUC Score train:  1.0\n",
      "ROC AUC Score validation:  0.5\n",
      "ROC AUC Score train:  1.0\n",
      "ROC AUC Score validation:  0.5\n",
      "ROC AUC Score train:  1.0\n",
      "ROC AUC Score validation:  0.48529411764705876\n",
      "ROC AUC Score train:  1.0\n",
      "ROC AUC Score validation:  0.5\n",
      "ROC AUC Score train:  1.0\n",
      "ROC AUC Score validation:  0.48611111111111116\n",
      "ROC AUC Score train:  1.0\n",
      "ROC AUC Score validation:  0.5\n",
      "ROC AUC Score train:  1.0\n",
      "ROC AUC Score validation:  0.48611111111111116\n",
      "ROC AUC Score train:  1.0\n",
      "ROC AUC Score validation:  0.5\n",
      "ROC AUC Score train:  1.0\n"
     ]
    }
   ],
   "source": [
    "with tf.Session() as session:\n",
    "    # We initialize all trainable variables before training starts\n",
    "    tf.global_variables_initializer().run()\n",
    "    #for example in range(len(train_trainData_X)):\n",
    "    for epoch in range(training_epochs):\n",
    "        for b in range(int(total_batches)):   \n",
    "\n",
    "            # We obtain the \"offset\" added to each unit in the neural network layer\n",
    "            offset = (b * batch_size) % (train_trainData_Y.shape[0] - batch_size)\n",
    "            batch_x = np.reshape(train_trainData_X[offset:(offset + batch_size), :],[-1,59,64])\n",
    "            batch_y = train_trainData_Y[offset:(offset + batch_size), :]\n",
    "            batch_y_steps = np.tile(batch_y,(batch_x.shape[1],1))\n",
    "\n",
    "            reshaped_validation_trainData_X = np.reshape(validation_trainData_X,[-1,59,64])\n",
    "            _, c = session.run([optimizer, loss_function],feed_dict={x: batch_x, y : batch_y, y_steps: batch_y_steps})   \n",
    "        # Our predictions are numbers between 0 and 1, as we are using sigmoid function\n",
    "        pred_y_validation = session.run(y_last,feed_dict={x:reshaped_validation_trainData_X})\n",
    "        pred_y_train = session.run(y_last,feed_dict={x:batch_x})\n",
    "        # To obtain the predicted classes we consider of class 0 the values less than 0.5 \n",
    "        # and 1 the values equals or greater than 0.5\n",
    "        pred_y_validation[pred_y_validation<0.5]=0\n",
    "        pred_y_validation[pred_y_validation>=0.5]=1\n",
    "        pred_y_train[pred_y_train<0.5]=0\n",
    "        pred_y_train[pred_y_train>=0.5]=1\n",
    "        # After that, we compute the AUC score which provides an aggregate measure of performance \n",
    "        # across all possible classification thresholds.\n",
    "        print(\"ROC AUC Score validation: \",roc_auc_score(validation_trainData_Y,pred_y_validation))\n",
    "        print(\"ROC AUC Score train: \",roc_auc_score(pred_y_train,batch_y))\n"
   ]
  },
  {
   "cell_type": "code",
   "execution_count": 25,
   "metadata": {
    "scrolled": false
   },
   "outputs": [
    {
     "data": {
      "image/png": "[encoded data removed]",
      "text/plain": [
       "<Figure size 432x288 with 1 Axes>"
      ]
     },
     "metadata": {
      "needs_background": "light"
     },
     "output_type": "display_data"
    }
   ],
   "source": [
    "y_validation=validation_trainData_Y\n",
    "\n",
    "# fpr means false-positive-rate\n",
    "# tpr means true-positive-rate\n",
    "fpr, tpr, _ = metrics.roc_curve(y_validation, pred_y_validation)\n",
    "auc_score = metrics.auc(fpr, tpr)\n",
    "\n",
    "plt.title('ROC Curve GRU')\n",
    "plt.plot(fpr, tpr, label='AUC = {:.2f}'.format(auc_score))\n",
    "\n",
    "# We trace a diagonal to indicate where chance scores lie\n",
    "plt.plot([0,1],[0,1],'r--')\n",
    "\n",
    "plt.xlim([-0.1,1.1])\n",
    "plt.ylim([-0.1,1.1])\n",
    "plt.ylabel('True Positive Rate')\n",
    "plt.xlabel('False Positive Rate')\n",
    "\n",
    "plt.legend(loc='lower right')\n",
    "plt.show()\n",
    "\n"
   ]
  },
  {
   "cell_type": "markdown",
   "metadata": {},
   "source": [
    "## CNN using Keras\n"
   ]
  },
  {
   "cell_type": "markdown",
   "metadata": {},
   "source": [
    "The benefit of using CNNs for sequence classification is that they can learn from the raw time series data directly, and in turn do not require domain expertise to manually engineer input features. The model can learn an internal representation of the time series data and ideally achieve comparable performance to models fit on a version of the dataset with engineered features.\n",
    "\n",
    "In this approach we decided to use Keras as an alternative to Tensorflow."
   ]
  },
  {
   "cell_type": "markdown",
   "metadata": {},
   "source": [
    "First, we must define the CNN model using the Keras deep learning library. The model requires a three-dimensional input with [samples, time steps, features]."
   ]
  },
  {
   "cell_type": "code",
   "execution_count": 26,
   "metadata": {},
   "outputs": [],
   "source": [
    "# These input and output dimensions are required when fitting the model\n",
    "n_timesteps, n_features, n_outputs = 59, 64 , 2"
   ]
  },
  {
   "cell_type": "markdown",
   "metadata": {},
   "source": [
    "We have defined the model as having two 1D CNN layers, followed by a dropout layer for regularization and then a pooling layer. \n"
   ]
  },
  {
   "cell_type": "code",
   "execution_count": 27,
   "metadata": {},
   "outputs": [],
   "source": [
    "# fit and evaluate a model\n",
    "def evaluate_model(trainX, trainy, validationX, validationy):\n",
    "    verbose, epochs, batch_size = 0, 208, 70\n",
    "    model = Sequential()\n",
    "    # It is common to define CNN layers in groups of two in order to give the model\n",
    "    # a good chance of learning features from the input data\n",
    "    # For this model, we have used a standard configuration of 64 parallel feature maps and a kernel size of 3. \n",
    "    # The feature maps are the number of times the input is processed or interpreted,\n",
    "    # whereas the kernel size is the number of input time steps considered as the input sequence\n",
    "    # is read or processed onto the feature maps\n",
    "    model.add(Conv1D(filters=64, kernel_size=3, activation='relu', input_shape=(n_features,n_timesteps)))\n",
    "    model.add(Conv1D(filters=64, kernel_size=3, activation='relu'))\n",
    "    # CNNs learn very quickly, therefore, the dropout layer is intended to help slow down \n",
    "    # the learning process and hopefully result in a better final model\n",
    "    model.add(Dropout(0.5))\n",
    "    # The pooling layer reduces the learned features to 1/4 their size, \n",
    "    # consolidating them to only the most essential elements\n",
    "    model.add(MaxPooling1D(pool_size=2))\n",
    "    # After the CNN and pooling, the learned features are flattened to one long vector\n",
    "    # and pass through a fully connected layer before the output layer used to make a prediction\n",
    "    model.add(Flatten())\n",
    "    model.add(Dense(100, activation='relu'))\n",
    "    # In this case as we have set the number of classes equals 2, we could not use the sigmoid\n",
    "    # function, instead, we have used softmax\n",
    "    model.add(Dense(n_outputs, activation='softmax'))\n",
    "    # The efficient Adam version of stochastic gradient descent will be used to optimize the network,\n",
    "    # moreover, as the labels are integers, we are using sparse_categorical_crossentropy\n",
    "    # instead of categorical_crossentropy\n",
    "    model.compile(loss='sparse_categorical_crossentropy', optimizer='adam', metrics=['accuracy'])\n",
    "    # fit network\n",
    "    model.fit(trainX, trainy, epochs=epochs, batch_size=batch_size, verbose=0)\n",
    "    preds = model.predict(trainX,batch_size=batch_size,verbose=verbose,steps=None)\n",
    "    # evaluate model\n",
    "    # Once the model is fit, it is evaluated on the validation dataset \n",
    "    # and the accuracy of the fit model on the validation dataset is returned.\n",
    "    _, accuracy = model.evaluate(validationX, validationy, batch_size=batch_size, verbose=0)\n",
    "    return preds, accuracy"
   ]
  },
  {
   "cell_type": "markdown",
   "metadata": {},
   "source": [
    "We consider that the skill of the model can't be judged from a single evaluation.\n",
    "The reason for this consideration is that neural networks are stochastic, meaning that a different specific model will result when training the same model configuration on the same data.\n",
    "This feature of the network gives the model its adaptive ability, but also for this reason it requires a slightly more complicated evaluation of the model.\n",
    "\n",
    "We will repeat the evaluation of the model multiple times, then summarize the performance of the model across each of those runs. In conclusion, we can call evaluate_model() a total of 10 times, which will result in a population of model evaluation scores that must be summarized.\n",
    "\n",
    "We can summarize the sample of scores by calculating and reporting the mean and standard deviation of the performance. The mean gives the average accuracy of the model on the dataset, whereas the standard deviation gives the average variance of the accuracy from the mean."
   ]
  },
  {
   "cell_type": "code",
   "execution_count": 28,
   "metadata": {},
   "outputs": [],
   "source": [
    "# Summarize scores\n",
    "# The function summarize_results() below summarizes the results of a run\n",
    "def summarize_results(scores):\n",
    "    print(scores)\n",
    "    m, s = mean(scores), std(scores)\n",
    "    print('Accuracy: %.3f%% (+/-%.3f)' % (m, s))"
   ]
  },
  {
   "cell_type": "markdown",
   "metadata": {},
   "source": [
    "We can bundle up the repeated evaluation, gathering of results, and summarization of results into a main function, called run_experiment()."
   ]
  },
  {
   "cell_type": "code",
   "execution_count": 29,
   "metadata": {},
   "outputs": [],
   "source": [
    "# Run an experiment\n",
    "# By default, the model is evaluated 10 times before the performance of the model is reported.\n",
    "def run_experiment(repeats=10):\n",
    "    # repeat experiment\n",
    "    scores = list()\n",
    "    for r in range(repeats):\n",
    "        preds, score = evaluate_model(train_trainData_X, train_trainData_Y, validation_trainData_X, validation_trainData_Y)\n",
    "        score = score * 100.0\n",
    "        print('>#%d: %.3f' % (r+1, score))\n",
    "        scores.append(score)\n",
    "    # summarize results\n",
    "    summarize_results(scores)\n",
    "    return preds"
   ]
  },
  {
   "cell_type": "code",
   "execution_count": 30,
   "metadata": {},
   "outputs": [
    {
     "name": "stdout",
     "output_type": "stream",
     "text": [
      ">#1: 48.571\n",
      ">#2: 51.429\n",
      ">#3: 51.429\n",
      ">#4: 67.143\n",
      ">#5: 72.857\n",
      ">#6: 70.000\n",
      ">#7: 48.571\n",
      ">#8: 78.571\n",
      ">#9: 51.429\n",
      ">#10: 77.143\n",
      "[48.571428656578064, 51.428574323654175, 51.428574323654175, 67.14285612106323, 72.85714149475098, 69.9999988079071, 48.571428656578064, 78.57142686843872, 51.428574323654175, 77.14285850524902]\n",
      "Accuracy: 61.714% (+/-11.863)\n"
     ]
    }
   ],
   "source": [
    "# run the experiment\n",
    "preds = run_experiment()"
   ]
  },
  {
   "cell_type": "markdown",
   "metadata": {},
   "source": [
    "## Analysis of the results"
   ]
  },
  {
   "cell_type": "markdown",
   "metadata": {},
   "source": [
    "**RNN (LSTM vs. GRU)**\n",
    "\n",
    "Analysing the results obtained from the LSTM and GRU executions, we can observe that they result in  similar ROC AUC scores. The performance of GRU is on par with LSTM, but it is computationally more efficient, because it lacks of memory unit and therefore has a less complex structure.\n",
    "\n",
    "We can also see that ROC AUC scores have some peak values where it reaches a higher score and after that starts to decrease. From our point of view, in order to get most from the model an early stop should be applied when a peak is detected to ensure we end up with the model that gives us the best results.\n",
    "\n",
    "**CNN**\n",
    "\n",
    "We have observed that when the model gives us an accuracy of 48.571 or 51.429\n",
    "is because the model has predicted that all the labels are from class 0 or class 1.\n",
    "\n",
    "The overall accuracy is pretty decent. Nevertheless, as we have repeated the execution several times we should choose as our final model the one that has reached a higher accuracy value from the total amount of experiments.\n",
    "\n",
    "**Comparison with the contest results**\n",
    "\n",
    "As it can be observed in the contest [results](http://www.bbci.de/competition/iii/results/) for the Data set I [Tübingen], almost no one used neural networks to solve the problem, therefore, we consider ours was a pretty innovative approach. In comparison to the results of the contestant teams, we can see that we are above the mean of accuracy obtained by other contestants, taking as our final model the one that has reached a higher accuracy value from the total amount of experiments executed on the CNN."
   ]
  }
 ],
 "metadata": {
  "kernelspec": {
   "display_name": "Python 3",
   "language": "python",
   "name": "python3"
  },
  "language_info": {
   "codemirror_mode": {
    "name": "ipython",
    "version": 3
   },
   "file_extension": ".py",
   "mimetype": "text/x-python",
   "name": "python",
   "nbconvert_exporter": "python",
   "pygments_lexer": "ipython3",
   "version": "3.7.2"
  }
 },
 "nbformat": 4,
 "nbformat_minor": 2
}
